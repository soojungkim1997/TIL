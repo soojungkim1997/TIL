{
 "cells": [
  {
   "cell_type": "markdown",
   "id": "aeeaf89c",
   "metadata": {},
   "source": [
    "# Ch.8 차원축소"
   ]
  },
  {
   "cell_type": "markdown",
   "id": "bc75f481",
   "metadata": {},
   "source": [
    "## 8.3 PCA"
   ]
  },
  {
   "cell_type": "markdown",
   "id": "ff0fd195",
   "metadata": {},
   "source": [
    "### 8.3.2 주성분"
   ]
  },
  {
   "cell_type": "code",
   "execution_count": 12,
   "id": "a82d7abc",
   "metadata": {},
   "outputs": [],
   "source": [
    "import numpy as np\n",
    "np.random.seed(4)\n",
    "\n",
    "m = 60\n",
    "noise = 0.1\n",
    "\n",
    "X = np.empty((m, 3))\n",
    "\n",
    "angles = np.random.rand(m) * 3 * np.pi / 2 - 0.5\n",
    "X[:, 0] = np.cos(angles) + np.sin(angles)/2 + noise * np.random.randn(m) / 2   # x 좌표\n",
    "X[:, 1] = np.sin(angles) * 0.7 + noise * np.random.randn(m) / 2                # y 좌표\n",
    "\n",
    "w1, w2 = 0.1, 0.3\n",
    "X[:, 2] = X[:, 0] * w1 + X[:, 1] * w2 + noise * np.random.randn(m)             # z 좌표 (초평면 + 잡음)"
   ]
  },
  {
   "cell_type": "code",
   "execution_count": 13,
   "id": "8a5a17a6",
   "metadata": {},
   "outputs": [],
   "source": [
    "X_centered = X - X.mean(axis= 0)\n",
    "U,s,Vt = np.linalg.svd(X_centered)\n",
    "c1 = Vt.T[:,0]\n",
    "c2 = Vt.T[:,1]"
   ]
  },
  {
   "cell_type": "markdown",
   "id": "fea8b881",
   "metadata": {},
   "source": [
    "### 8.3.3 d차원으로 투영하기"
   ]
  },
  {
   "cell_type": "code",
   "execution_count": 3,
   "id": "19330360",
   "metadata": {},
   "outputs": [],
   "source": [
    "w2 = Vt.T[:,:2]\n",
    "X2D = X_centered.dot(w2)"
   ]
  },
  {
   "cell_type": "markdown",
   "id": "a4f3f710",
   "metadata": {},
   "source": [
    "### 8.3.4 사이킷런 사용하기"
   ]
  },
  {
   "cell_type": "code",
   "execution_count": 4,
   "id": "64990823",
   "metadata": {},
   "outputs": [],
   "source": [
    "from sklearn.decomposition import PCA\n",
    "\n",
    "pca=PCA(n_components=2)\n",
    "X2D = pca.fit_transform(X)"
   ]
  },
  {
   "cell_type": "code",
   "execution_count": 5,
   "id": "2d06266c",
   "metadata": {},
   "outputs": [
    {
     "data": {
      "text/plain": [
       "array([0.84248607, 0.14631839])"
      ]
     },
     "execution_count": 5,
     "metadata": {},
     "output_type": "execute_result"
    }
   ],
   "source": [
    "pca.explained_variance_ratio_"
   ]
  },
  {
   "cell_type": "markdown",
   "id": "ca97e1e1",
   "metadata": {},
   "source": [
    "### 8.3.6 적절한 차원 수 선택하기"
   ]
  },
  {
   "cell_type": "code",
   "execution_count": 6,
   "id": "1a938dc3",
   "metadata": {},
   "outputs": [
    {
     "name": "stderr",
     "output_type": "stream",
     "text": [
      "C:\\Users\\user\\anaconda3\\lib\\site-packages\\sklearn\\datasets\\_openml.py:1002: FutureWarning: The default value of `parser` will change from `'liac-arff'` to `'auto'` in 1.4. You can set `parser='auto'` to silence this warning. Therefore, an `ImportError` will be raised from 1.4 if the dataset is dense and pandas is not installed. Note that the pandas parser may return different data types. See the Notes Section in fetch_openml's API doc for details.\n",
      "  warn(\n"
     ]
    }
   ],
   "source": [
    "from sklearn.datasets import fetch_openml\n",
    "\n",
    "mnist = fetch_openml('mnist_784', version=1, as_frame=False)\n",
    "mnist.target = mnist.target.astype(np.uint8)\n",
    "\n",
    "X = mnist[\"data\"]\n",
    "y = mnist[\"target\"]\n",
    "\n",
    "from sklearn.model_selection import train_test_split\n",
    "\n",
    "X_train, X_test, y_train, y_test = train_test_split(X, y)"
   ]
  },
  {
   "cell_type": "code",
   "execution_count": 7,
   "id": "91e9618e",
   "metadata": {},
   "outputs": [],
   "source": [
    "pca = PCA()\n",
    "pca.fit(X_train)\n",
    "cumsum = np.cumsum(pca.explained_variance_ratio_)\n",
    "d = np.argmax(cumsum >= 0.95) + 1"
   ]
  },
  {
   "cell_type": "code",
   "execution_count": 8,
   "id": "92076550",
   "metadata": {},
   "outputs": [],
   "source": [
    "pca = PCA(n_components=0.95)\n",
    "X_reduced = pca.fit_transform(X_train)"
   ]
  },
  {
   "cell_type": "markdown",
   "id": "3a48263e",
   "metadata": {},
   "source": [
    "### 8.3.7 압축을 위한 PCA"
   ]
  },
  {
   "cell_type": "code",
   "execution_count": 9,
   "id": "8bba412d",
   "metadata": {},
   "outputs": [],
   "source": [
    "pca = PCA(n_components = 154)\n",
    "X_reduced = pca.fit_transform(X_train)\n",
    "X_recovered = pca.inverse_transform(X_reduced)"
   ]
  },
  {
   "cell_type": "markdown",
   "id": "0473b5ff",
   "metadata": {},
   "source": [
    "### 8.3.8 랜덤 PCA"
   ]
  },
  {
   "cell_type": "code",
   "execution_count": 10,
   "id": "2eb6db12",
   "metadata": {},
   "outputs": [],
   "source": [
    "rnd_pca = PCA(n_components=154,svd_solver=\"randomized\")\n",
    "X_reduced = rnd_pca.fit_transform(X_train)"
   ]
  },
  {
   "cell_type": "markdown",
   "id": "5d2e97f1",
   "metadata": {},
   "source": [
    "### 8.3.9 점진적 PCA"
   ]
  },
  {
   "cell_type": "code",
   "execution_count": 11,
   "id": "98f3d69b",
   "metadata": {},
   "outputs": [],
   "source": [
    "from sklearn.decomposition import IncrementalPCA\n",
    "n_batches = 100\n",
    "inc_pca = IncrementalPCA(n_components=154)\n",
    "for X_batch in np.array_split(X_train,n_batches):\n",
    "    inc_pca.partial_fit(X_batch)\n",
    "    \n",
    "X_reduced = inc_pca.transform(X_train)"
   ]
  },
  {
   "cell_type": "code",
   "execution_count": null,
   "id": "58880223",
   "metadata": {},
   "outputs": [],
   "source": [
    "filename = \"my_mnist.data\"\n",
    "m, n = X_train.shape\n",
    "\n",
    "X_mm = np.memmap(filename,dtype=\"float32\",mode=\"readonly\",shape=(m,n))\n",
    "\n",
    "batch_size = m // n_batches\n",
    "inc_pca = IncrementalPCA(n_components=154,batch_size=batch_size)\n",
    "inc_pca.fit(X_mm)"
   ]
  },
  {
   "cell_type": "code",
   "execution_count": null,
   "id": "36216cfd",
   "metadata": {},
   "outputs": [],
   "source": [
    "from sklearn.decomposition import KernelPCA\n",
    "rbf_pca = KernelPCA(n_components =2,kernel=\"rbf\",gamma=0.04)\n",
    "X_reduced = rbf_pca.fit_transform(X)"
   ]
  },
  {
   "cell_type": "code",
   "execution_count": null,
   "id": "8c5c7f75",
   "metadata": {},
   "outputs": [],
   "source": [
    "from sklearn.model_selection import GridSearchCV\n",
    "from sklearn.linear_model import LogisticRegression\n",
    "from sklearn.pipeline import Pipeline\n",
    "\n",
    "clf = Pipeline([\n",
    "    (\"kpca\",KernelPCA(n_components=2)),\n",
    "    (\"log_reg\",LogicRegression())\n",
    "])\n",
    "param_grid = [{\n",
    "    \"kpca__gamma\":np.linspace(0.03,0.05,10),\n",
    "    \"kpca__kernel\":[\"rbf\",\"sigmoid\"]\n",
    "}]\n",
    "grid_search = GridSearchCV(clf,param_grid,cv=3)\n",
    "grid_search.fit(X,y)"
   ]
  },
  {
   "cell_type": "code",
   "execution_count": null,
   "id": "6cfbe5f6",
   "metadata": {},
   "outputs": [],
   "source": [
    "print(grid_search_best_params_)"
   ]
  },
  {
   "cell_type": "code",
   "execution_count": 14,
   "id": "627fc2a3",
   "metadata": {
    "collapsed": true
   },
   "outputs": [
    {
     "ename": "NameError",
     "evalue": "name 'KernelPCA' is not defined",
     "output_type": "error",
     "traceback": [
      "\u001b[1;31m---------------------------------------------------------------------------\u001b[0m",
      "\u001b[1;31mNameError\u001b[0m                                 Traceback (most recent call last)",
      "Cell \u001b[1;32mIn[14], line 1\u001b[0m\n\u001b[1;32m----> 1\u001b[0m rbf_pca \u001b[38;5;241m=\u001b[39m \u001b[43mKernelPCA\u001b[49m(n_components \u001b[38;5;241m=\u001b[39m \u001b[38;5;241m2\u001b[39m,kernel\u001b[38;5;241m=\u001b[39m\u001b[38;5;124m\"\u001b[39m\u001b[38;5;124mrbf\u001b[39m\u001b[38;5;124m\"\u001b[39m,gamma\u001b[38;5;241m=\u001b[39m\u001b[38;5;241m0.0433\u001b[39m,\n\u001b[0;32m      2\u001b[0m                    fit_inverse_transform\u001b[38;5;241m=\u001b[39m\u001b[38;5;28;01mTrue\u001b[39;00m)\n\u001b[0;32m      3\u001b[0m X_reduced \u001b[38;5;241m=\u001b[39m rbf_pca\u001b[38;5;241m.\u001b[39mfit_transform(X)\n\u001b[0;32m      4\u001b[0m X_preimage \u001b[38;5;241m=\u001b[39m rbf_pca\u001b[38;5;241m.\u001b[39minverse_transform(X_reduced)\n",
      "\u001b[1;31mNameError\u001b[0m: name 'KernelPCA' is not defined"
     ]
    }
   ],
   "source": [
    "rbf_pca = KernelPCA(n_components = 2,kernel=\"rbf\",gamma=0.0433,\n",
    "                   fit_inverse_transform=True)\n",
    "X_reduced = rbf_pca.fit_transform(X)\n",
    "X_preimage = rbf_pca.inverse_transform(X_reduced)"
   ]
  },
  {
   "cell_type": "code",
   "execution_count": null,
   "id": "6fd9f1eb",
   "metadata": {},
   "outputs": [],
   "source": [
    "from sklearn.metrics import mean_squared_error\n",
    "mean_squared_error(X,X_preimage)"
   ]
  },
  {
   "cell_type": "code",
   "execution_count": null,
   "id": "6f8d4906",
   "metadata": {},
   "outputs": [],
   "source": [
    "from sklearn.manifold import LocallyLinearEmbedding\n",
    "\n",
    "lle = LocallyLinearEmbedding(n_components=2,n_neighbors=10)\n",
    "X_reduced = lle.fit_transform(X)\n"
   ]
  }
 ],
 "metadata": {
  "kernelspec": {
   "display_name": "Python 3 (ipykernel)",
   "language": "python",
   "name": "python3"
  },
  "language_info": {
   "codemirror_mode": {
    "name": "ipython",
    "version": 3
   },
   "file_extension": ".py",
   "mimetype": "text/x-python",
   "name": "python",
   "nbconvert_exporter": "python",
   "pygments_lexer": "ipython3",
   "version": "3.10.0"
  }
 },
 "nbformat": 4,
 "nbformat_minor": 5
}
